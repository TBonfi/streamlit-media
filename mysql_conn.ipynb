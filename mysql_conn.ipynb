{
 "cells": [
  {
   "cell_type": "markdown",
   "metadata": {},
   "source": [
    "# Create connection"
   ]
  },
  {
   "cell_type": "code",
   "execution_count": 4,
   "metadata": {},
   "outputs": [
    {
     "name": "stdout",
     "output_type": "stream",
     "text": [
      "<mysql.connector.connection_cext.CMySQLConnection object at 0x0000020BA21453D0>\n"
     ]
    }
   ],
   "source": [
    "import mysql.connector\n",
    "import pandas as pd\n",
    "from PIL import Image\n",
    "from io import BytesIO\n",
    "\n",
    "\n",
    "mydb = mysql.connector.connect(\n",
    "  host=\"localhost\",\n",
    "  user=\"root\",\n",
    "  password=\"admin\",\n",
    "  database=\"protein_db\"\n",
    ")\n",
    "\n",
    "print(mydb)"
   ]
  },
  {
   "cell_type": "markdown",
   "metadata": {},
   "source": [
    "Read MySQL as Pandas DataFrame"
   ]
  },
  {
   "cell_type": "code",
   "execution_count": 5,
   "metadata": {},
   "outputs": [
    {
     "name": "stderr",
     "output_type": "stream",
     "text": [
      "c:\\Users\\bonfi\\anaconda3\\lib\\site-packages\\pandas\\io\\sql.py:762: UserWarning: pandas only support SQLAlchemy connectable(engine/connection) ordatabase string URI or sqlite3 DBAPI2 connectionother DBAPI2 objects are not tested, please consider using SQLAlchemy\n",
      "  warnings.warn(\n"
     ]
    },
    {
     "data": {
      "text/html": [
       "<div>\n",
       "<style scoped>\n",
       "    .dataframe tbody tr th:only-of-type {\n",
       "        vertical-align: middle;\n",
       "    }\n",
       "\n",
       "    .dataframe tbody tr th {\n",
       "        vertical-align: top;\n",
       "    }\n",
       "\n",
       "    .dataframe thead th {\n",
       "        text-align: right;\n",
       "    }\n",
       "</style>\n",
       "<table border=\"1\" class=\"dataframe\">\n",
       "  <thead>\n",
       "    <tr style=\"text-align: right;\">\n",
       "      <th></th>\n",
       "      <th>genome_id</th>\n",
       "      <th>species_name</th>\n",
       "      <th>genome_name</th>\n",
       "      <th>access_code</th>\n",
       "    </tr>\n",
       "  </thead>\n",
       "  <tbody>\n",
       "    <tr>\n",
       "      <th>0</th>\n",
       "      <td>1</td>\n",
       "      <td>Salmo salar</td>\n",
       "      <td>ICSASG_v2</td>\n",
       "      <td>GCA_000233375.4</td>\n",
       "    </tr>\n",
       "  </tbody>\n",
       "</table>\n",
       "</div>"
      ],
      "text/plain": [
       "   genome_id species_name genome_name      access_code\n",
       "0          1  Salmo salar   ICSASG_v2  GCA_000233375.4"
      ]
     },
     "execution_count": 5,
     "metadata": {},
     "output_type": "execute_result"
    }
   ],
   "source": [
    "\n",
    "query = \"SELECT * FROM genome\"\n",
    "\n",
    "df = pd.read_sql(query, con=mydb)\n",
    "\n",
    "mydb.close()\n",
    "\n",
    "df\n"
   ]
  },
  {
   "cell_type": "markdown",
   "metadata": {},
   "source": [
    "Load image in the database"
   ]
  },
  {
   "cell_type": "code",
   "execution_count": 6,
   "metadata": {},
   "outputs": [],
   "source": [
    "mydb = mysql.connector.connect(\n",
    "  host=\"localhost\",\n",
    "  user=\"root\",\n",
    "  password=\"admin\",\n",
    "  database=\"protein_db\"\n",
    ")\n",
    "\n",
    "cursor = mydb.cursor()\n",
    "\n",
    "# Read the image file as binary data\n",
    "with open('protein.jpg', 'rb') as file:\n",
    "    image_data = file.read()\n",
    "\n",
    "# Insert the image data into the database\n",
    "\n",
    "insert_query = \"INSERT INTO genome_image (species_name, genome_name, access_code, image_demo, image_demo_name) VALUES (%s, %s, %s, %s, %s)\"\n",
    "cursor.execute(insert_query, ('Salmo salar', 'ICSASG_v2', 'GCA_000233375.4', image_data, 'protein.jpg'))\n",
    "\n",
    "mydb.commit()\n",
    "\n",
    "cursor.close()\n",
    "mydb.close()\n"
   ]
  },
  {
   "cell_type": "markdown",
   "metadata": {},
   "source": [
    "Retrieve Image from database"
   ]
  },
  {
   "cell_type": "code",
   "execution_count": 7,
   "metadata": {},
   "outputs": [],
   "source": [
    "\n",
    "\n",
    "mydb = mysql.connector.connect(\n",
    "  host=\"localhost\",\n",
    "  user=\"root\",\n",
    "  password=\"admin\",\n",
    "  database=\"protein_db\"\n",
    ")\n",
    "\n",
    "cursor = mydb.cursor()\n",
    "\n",
    "select_query = \"SELECT image_demo FROM genome_image\"\n",
    "cursor.execute(select_query)\n",
    "image_data = cursor.fetchone()[0]\n",
    "\n",
    "\n",
    "image = Image.open(BytesIO(image_data))\n",
    "image.show()\n",
    "\n",
    "cursor.close()\n",
    "mydb.close()\n"
   ]
  },
  {
   "cell_type": "markdown",
   "metadata": {},
   "source": [
    "# Demo table"
   ]
  },
  {
   "cell_type": "markdown",
   "metadata": {},
   "source": [
    "This next script assumes that the user can create a table, grant the permissions to do so!"
   ]
  },
  {
   "cell_type": "code",
   "execution_count": 8,
   "metadata": {},
   "outputs": [],
   "source": [
    "import mysql.connector\n",
    "\n",
    "\n",
    "mydb = mysql.connector.connect(\n",
    "  host=\"localhost\",\n",
    "  user=\"root\",\n",
    "  password=\"admin\",\n",
    "  database=\"protein_db\"\n",
    ")\n"
   ]
  },
  {
   "cell_type": "code",
   "execution_count": 9,
   "metadata": {},
   "outputs": [],
   "source": [
    "query_demo = \"\"\"CREATE TABLE IF NOT EXISTS `protein_db`.`demo` (\n",
    "                  `Name` VARCHAR(45) NULL,\n",
    "                  `Image_Path` VARCHAR(45) NULL,\n",
    "                  `Description` VARCHAR(45) NULL,\n",
    "                  `Image` VARCHAR(45) NULL,\n",
    "                  `Image_demo` BLOB NULL)\n",
    "                ENGINE = InnoDB;\"\"\"\n",
    "\n",
    "\n",
    "cursor = mydb.cursor()\n",
    "\n",
    "cursor.execute(query_demo)"
   ]
  },
  {
   "cell_type": "code",
   "execution_count": 10,
   "metadata": {},
   "outputs": [
    {
     "data": {
      "text/plain": [
       "True"
      ]
     },
     "execution_count": 10,
     "metadata": {},
     "output_type": "execute_result"
    }
   ],
   "source": [
    "\n",
    "with open('patas.jpg', 'rb') as file:\n",
    "    image_data = file.read()\n",
    "\n",
    "insert_query = \"INSERT INTO demo (Name, Image_Path, Description, Image, Image_demo) VALUES (%s, %s, %s, %s, %s)\"\n",
    "cursor.execute(insert_query, ('patas', 'patas.jpg', 'Description1', 'True', image_data))\n",
    "mydb.commit()\n",
    "\n",
    "\n",
    "with open('protein.jpg', 'rb') as file:\n",
    "    image_data = file.read()\n",
    "\n",
    "insert_query = \"INSERT INTO demo (Name, Image_Path, Description, Image, Image_demo) VALUES (%s, %s, %s, %s, %s)\"\n",
    "cursor.execute(insert_query, ('protein', 'protein.jpg', 'Description2', 'True', image_data))\n",
    "mydb.commit()\n",
    "\n",
    "\n",
    "with open('orejas.jpg', 'rb') as file:\n",
    "    image_data = file.read()\n",
    "\n",
    "insert_query = \"INSERT INTO demo (Name, Image_Path, Description, Image, Image_demo) VALUES (%s, %s, %s, %s, %s)\"\n",
    "cursor.execute(insert_query, ('orejas', 'orejas.jpg', 'Description3', 'True', image_data))\n",
    "mydb.commit()\n",
    "\n",
    "\n",
    "cursor.close()\n"
   ]
  },
  {
   "cell_type": "code",
   "execution_count": 11,
   "metadata": {},
   "outputs": [
    {
     "name": "stderr",
     "output_type": "stream",
     "text": [
      "c:\\Users\\bonfi\\anaconda3\\lib\\site-packages\\pandas\\io\\sql.py:762: UserWarning: pandas only support SQLAlchemy connectable(engine/connection) ordatabase string URI or sqlite3 DBAPI2 connectionother DBAPI2 objects are not tested, please consider using SQLAlchemy\n",
      "  warnings.warn(\n"
     ]
    },
    {
     "data": {
      "text/html": [
       "<div>\n",
       "<style scoped>\n",
       "    .dataframe tbody tr th:only-of-type {\n",
       "        vertical-align: middle;\n",
       "    }\n",
       "\n",
       "    .dataframe tbody tr th {\n",
       "        vertical-align: top;\n",
       "    }\n",
       "\n",
       "    .dataframe thead th {\n",
       "        text-align: right;\n",
       "    }\n",
       "</style>\n",
       "<table border=\"1\" class=\"dataframe\">\n",
       "  <thead>\n",
       "    <tr style=\"text-align: right;\">\n",
       "      <th></th>\n",
       "      <th>Name</th>\n",
       "      <th>Image_Path</th>\n",
       "      <th>Description</th>\n",
       "      <th>Image</th>\n",
       "      <th>Image_demo</th>\n",
       "    </tr>\n",
       "  </thead>\n",
       "  <tbody>\n",
       "    <tr>\n",
       "      <th>0</th>\n",
       "      <td>patas</td>\n",
       "      <td>patas.jpg</td>\n",
       "      <td>Description1</td>\n",
       "      <td>True</td>\n",
       "      <td>b'\\xff\\xd8\\xff\\xe0\\x00\\x10JFIF\\x00\\x01\\x01\\x00...</td>\n",
       "    </tr>\n",
       "    <tr>\n",
       "      <th>1</th>\n",
       "      <td>protein</td>\n",
       "      <td>protein.jpg</td>\n",
       "      <td>Description2</td>\n",
       "      <td>True</td>\n",
       "      <td>b'\\xff\\xd8\\xff\\xe0\\x00\\x10JFIF\\x00\\x01\\x01\\x00...</td>\n",
       "    </tr>\n",
       "    <tr>\n",
       "      <th>2</th>\n",
       "      <td>orejas</td>\n",
       "      <td>orejas.jpg</td>\n",
       "      <td>Description3</td>\n",
       "      <td>True</td>\n",
       "      <td>b'\\xff\\xd8\\xff\\xe0\\x00\\x10JFIF\\x00\\x01\\x01\\x00...</td>\n",
       "    </tr>\n",
       "  </tbody>\n",
       "</table>\n",
       "</div>"
      ],
      "text/plain": [
       "      Name   Image_Path   Description Image  \\\n",
       "0    patas    patas.jpg  Description1  True   \n",
       "1  protein  protein.jpg  Description2  True   \n",
       "2   orejas   orejas.jpg  Description3  True   \n",
       "\n",
       "                                          Image_demo  \n",
       "0  b'\\xff\\xd8\\xff\\xe0\\x00\\x10JFIF\\x00\\x01\\x01\\x00...  \n",
       "1  b'\\xff\\xd8\\xff\\xe0\\x00\\x10JFIF\\x00\\x01\\x01\\x00...  \n",
       "2  b'\\xff\\xd8\\xff\\xe0\\x00\\x10JFIF\\x00\\x01\\x01\\x00...  "
      ]
     },
     "execution_count": 11,
     "metadata": {},
     "output_type": "execute_result"
    }
   ],
   "source": [
    "\n",
    "query = \"SELECT * FROM demo\"\n",
    "\n",
    "df = pd.read_sql(query, con=mydb)\n",
    "\n",
    "mydb.close()\n",
    "\n",
    "df"
   ]
  },
  {
   "cell_type": "code",
   "execution_count": 12,
   "metadata": {},
   "outputs": [
    {
     "data": {
      "image/png": "[encoded data removed]",
      "text/plain": [
       "<PIL.JpegImagePlugin.JpegImageFile image mode=RGB size=222x148>"
      ]
     },
     "execution_count": 12,
     "metadata": {},
     "output_type": "execute_result"
    }
   ],
   "source": [
    "\n",
    "from PIL import Image\n",
    "from io import BytesIO\n",
    "\n",
    "# Function to read image from binary data\n",
    "def read_image(image_data):\n",
    "    return Image.open(BytesIO(image_data))\n",
    "\n",
    "df['Image_demo'] = df['Image_demo'].apply(read_image)\n",
    "\n",
    "df[\"Image_demo\"][0]"
   ]
  }
 ],
 "metadata": {
  "kernelspec": {
   "display_name": "base",
   "language": "python",
   "name": "python3"
  },
  "language_info": {
   "codemirror_mode": {
    "name": "ipython",
    "version": 3
   },
   "file_extension": ".py",
   "mimetype": "text/x-python",
   "name": "python",
   "nbconvert_exporter": "python",
   "pygments_lexer": "ipython3",
   "version": "3.9.13"
  }
 },
 "nbformat": 4,
 "nbformat_minor": 2
}
